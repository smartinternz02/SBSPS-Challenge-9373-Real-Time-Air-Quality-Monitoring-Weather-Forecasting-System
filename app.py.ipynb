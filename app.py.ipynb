{
 "cells": [
  {
   "cell_type": "code",
   "execution_count": 18,
   "id": "11fc8e14",
   "metadata": {},
   "outputs": [
    {
     "name": "stdout",
     "output_type": "stream",
     "text": [
      "Overwriting app.py\n"
     ]
    }
   ],
   "source": [
    "%%writefile app.py\n",
    "import pandas as pd\n",
    "import streamlit as st\n",
    "from sklearn.svm import SVR\n",
    "import pickle\n",
    "st.title('Air Quality Index')\n",
    "st.image(\"\"\"https://images.unsplash.com/photo-1611273426858-450d8e3c9fce?ixlib=rb-1.2.1&ixid=MnwxMjA3fDB8MHxwaG90by1wYWdlfHx8fGVufDB8fHx8&auto=format&fit=crop&w=1000&q=80\"\"\")\n",
    "st.header('Enter the parameters to check AIQ:')\n",
    "filename = 'svmr_finalized_model.sav'\n",
    "loaded_model = pickle.load(open(filename, 'rb'))\n",
    "def predict(PM25, PM10, NO2):\n",
    "    prediction = loaded_model.predict(pd.DataFrame([[PM25, PM10, NO2]], columns=['PM25', 'PM10', 'NO2']))\n",
    "    return prediction\n",
    "PM25 = st.number_input('PM2.5:', min_value=2.0, max_value=177.62, value=2.0)\n",
    "PM10 = st.number_input('PM10:', min_value=7.8, max_value=249.97, value=7.8)\n",
    "NO2  = st.number_input('NO2:', min_value=0.17, max_value=89.44, value=0.17)\n",
    "if st.button('Predict AQI'):\n",
    "    aqi = predict(PM25, PM10, NO2)\n",
    "    st.success(f'The predicted Qulity of the Air is 🎇{aqi[0]:.2f} AQI')\n",
    "st.markdown(\"Bhagat Surya\")\n"
   ]
  },
  {
   "cell_type": "code",
   "execution_count": 8,
   "id": "6f98ccfa",
   "metadata": {},
   "outputs": [],
   "source": [
    "import pickle\n",
    "filename = 'svmr_finalized_model.sav'\n",
    "loaded_model = pickle.load(open(filename, 'rb'))"
   ]
  },
  {
   "cell_type": "code",
   "execution_count": null,
   "id": "6166df4f",
   "metadata": {},
   "outputs": [],
   "source": [
    "filename = 'svmr_finalized_model.sav'\n",
    "loaded_model = pickle.load(open(filename, 'rb'))\n",
    "def predict(PM25, PM10, NO2):\n",
    "    prediction = loaded_model.predict(pd.DataFrame([[PM25, PM10, NO2]], columns=['PM25', 'PM10', 'NO2']))\n",
    "    return prediction"
   ]
  }
 ],
 "metadata": {
  "kernelspec": {
   "display_name": "Python 3 (ipykernel)",
   "language": "python",
   "name": "python3"
  },
  "language_info": {
   "codemirror_mode": {
    "name": "ipython",
    "version": 3
   },
   "file_extension": ".py",
   "mimetype": "text/x-python",
   "name": "python",
   "nbconvert_exporter": "python",
   "pygments_lexer": "ipython3",
   "version": "3.9.12"
  }
 },
 "nbformat": 4,
 "nbformat_minor": 5
}
